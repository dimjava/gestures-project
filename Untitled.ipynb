{
 "cells": [
  {
   "cell_type": "code",
   "execution_count": 8,
   "metadata": {
    "collapsed": true
   },
   "outputs": [],
   "source": [
    "import pandas as pd\n",
    "import numpy as np"
   ]
  },
  {
   "cell_type": "code",
   "execution_count": 9,
   "metadata": {
    "collapsed": true
   },
   "outputs": [],
   "source": [
    "gesture_1 = np.array([1 for _ in range(50)])\n",
    "gesture_2 = np.array([2 for _ in range(50)])\n",
    "gesture_3 = np.array([3 for _ in range(50)])\n",
    "gesture_4 = np.array([4 for _ in range(50)])\n",
    "gesture_5 = np.array([5 for _ in range(50)])\n",
    "\n"
   ]
  },
  {
   "cell_type": "code",
   "execution_count": 10,
   "metadata": {
    "collapsed": true
   },
   "outputs": [],
   "source": [
    "def get_gesture_pd(gesture, gest_id):\n",
    "    PATH = '/home/temkahap/Рабочий стол/Проект Техносфера/Жест %d/label.csv' % gest_id\n",
    "    a = pd.DataFrame()\n",
    "    a['gesture_id'] = gesture\n",
    "    a.to_csv(PATH, index = False  )\n"
   ]
  },
  {
   "cell_type": "code",
   "execution_count": 11,
   "metadata": {},
   "outputs": [],
   "source": [
    "for i in range(1, 6):\n",
    "    get_gesture_pd(gesture_1, 1)\n",
    "    \n",
    "for i in range(1, 6):\n",
    "    get_gesture_pd(gesture_2, 2)\n",
    "    \n",
    "for i in range(1, 6):\n",
    "    get_gesture_pd(gesture_3, 3)\n",
    "    \n",
    "for i in range(1, 6):\n",
    "    get_gesture_pd(gesture_4, 4)\n",
    "    \n",
    "for i in range(1, 6):\n",
    "    get_gesture_pd(gesture_5, 5)"
   ]
  },
  {
   "cell_type": "code",
   "execution_count": null,
   "metadata": {
    "collapsed": true
   },
   "outputs": [],
   "source": []
  }
 ],
 "metadata": {
  "kernelspec": {
   "display_name": "Python 3",
   "language": "python",
   "name": "python3"
  },
  "language_info": {
   "codemirror_mode": {
    "name": "ipython",
    "version": 3
   },
   "file_extension": ".py",
   "mimetype": "text/x-python",
   "name": "python",
   "nbconvert_exporter": "python",
   "pygments_lexer": "ipython3",
   "version": "3.6.2"
  }
 },
 "nbformat": 4,
 "nbformat_minor": 2
}
