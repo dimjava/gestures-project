{
 "cells": [
  {
   "cell_type": "code",
   "execution_count": 1,
   "metadata": {},
   "outputs": [
    {
     "name": "stderr",
     "output_type": "stream",
     "text": [
      "/home/sphere_7/anaconda3/envs/analytics/lib/python3.6/site-packages/sklearn/cross_validation.py:41: DeprecationWarning: This module was deprecated in version 0.18 in favor of the model_selection module into which all the refactored classes and functions are moved. Also note that the interface of the new CV iterators are different from that of this module. This module will be removed in 0.20.\n",
      "  \"This module will be removed in 0.20.\", DeprecationWarning)\n"
     ]
    }
   ],
   "source": [
    "import numpy as np\n",
    "from skimage import io, transform\n",
    "from sklearn.datasets import fetch_mldata\n",
    "from sklearn.cross_validation import train_test_split\n",
    "from sklearn.metrics import accuracy_score\n",
    "import matplotlib.pyplot as plt\n",
    "import torch\n",
    "from torch import nn\n",
    "from torch.autograd import Variable\n",
    "from torch.utils.data import DataLoader, Dataset\n",
    "from torchvision.datasets import MNIST\n",
    "from torchvision import transforms\n",
    "from torchvision import models\n",
    "\n",
    "from tqdm import tqdm\n",
    "\n",
    "import pandas as pd\n",
    "import os\n",
    "\n",
    "%matplotlib inline"
   ]
  },
  {
   "cell_type": "code",
   "execution_count": 2,
   "metadata": {},
   "outputs": [
    {
     "data": {
      "text/html": [
       "<div>\n",
       "<style scoped>\n",
       "    .dataframe tbody tr th:only-of-type {\n",
       "        vertical-align: middle;\n",
       "    }\n",
       "\n",
       "    .dataframe tbody tr th {\n",
       "        vertical-align: top;\n",
       "    }\n",
       "\n",
       "    .dataframe thead th {\n",
       "        text-align: right;\n",
       "    }\n",
       "</style>\n",
       "<table border=\"1\" class=\"dataframe\">\n",
       "  <thead>\n",
       "    <tr style=\"text-align: right;\">\n",
       "      <th></th>\n",
       "      <th>0</th>\n",
       "      <th>1</th>\n",
       "    </tr>\n",
       "  </thead>\n",
       "  <tbody>\n",
       "    <tr>\n",
       "      <th>0</th>\n",
       "      <td>Gesture_4/WIN_20171129_12_29_10_Pro (2).jpg</td>\n",
       "      <td>4</td>\n",
       "    </tr>\n",
       "    <tr>\n",
       "      <th>1</th>\n",
       "      <td>Gesture_4/2017-11-26-145636_9.jpg</td>\n",
       "      <td>4</td>\n",
       "    </tr>\n",
       "    <tr>\n",
       "      <th>2</th>\n",
       "      <td>Gesture_4/WIN_20171203_17_26_42_Pro.jpg</td>\n",
       "      <td>4</td>\n",
       "    </tr>\n",
       "    <tr>\n",
       "      <th>3</th>\n",
       "      <td>Gesture_4/2017-11-26-150319_4.jpg</td>\n",
       "      <td>4</td>\n",
       "    </tr>\n",
       "    <tr>\n",
       "      <th>4</th>\n",
       "      <td>Gesture_4/2017-11-26-150319_9.jpg</td>\n",
       "      <td>4</td>\n",
       "    </tr>\n",
       "  </tbody>\n",
       "</table>\n",
       "</div>"
      ],
      "text/plain": [
       "                                             0  1\n",
       "0  Gesture_4/WIN_20171129_12_29_10_Pro (2).jpg  4\n",
       "1            Gesture_4/2017-11-26-145636_9.jpg  4\n",
       "2      Gesture_4/WIN_20171203_17_26_42_Pro.jpg  4\n",
       "3            Gesture_4/2017-11-26-150319_4.jpg  4\n",
       "4            Gesture_4/2017-11-26-150319_9.jpg  4"
      ]
     },
     "execution_count": 2,
     "metadata": {},
     "output_type": "execute_result"
    }
   ],
   "source": [
    "data = pd.read_csv('marks.csv', header=None)\n",
    "data.head()"
   ]
  },
  {
   "cell_type": "code",
   "execution_count": 3,
   "metadata": {},
   "outputs": [],
   "source": [
    "class GesturesDataset(Dataset):\n",
    "    def __init__(self, pd_file, root_dir, transform=None):\n",
    "        self.marks = pd_file\n",
    "        self.root_dir = root_dir\n",
    "        self.transform = transform\n",
    "\n",
    "    def __len__(self):\n",
    "        return len(self.marks)\n",
    "\n",
    "    def __getitem__(self, idx):\n",
    "        img_name = os.path.join(self.root_dir, self.marks.iloc[idx, 0])\n",
    "        image = io.imread(img_name)\n",
    "        sample = {'image': image, 'mark': self.marks.iloc[idx, 1] - 1}\n",
    "\n",
    "#         if self.transform:\n",
    "#             sample = self.transform(sample)\n",
    "\n",
    "        return sample"
   ]
  },
  {
   "cell_type": "code",
   "execution_count": 4,
   "metadata": {},
   "outputs": [],
   "source": [
    "train_data, test_data = train_test_split(data, test_size=0.2)"
   ]
  },
  {
   "cell_type": "code",
   "execution_count": 5,
   "metadata": {},
   "outputs": [],
   "source": [
    "train_dataset = GesturesDataset(pd_file=train_data, root_dir='./')\n",
    "train_dataloader = DataLoader(dataset=train_dataset, batch_size=10, num_workers=2, shuffle=True)\n",
    "\n",
    "test_dataset = GesturesDataset(pd_file=test_data, root_dir='./')\n",
    "test_dataloader = DataLoader(dataset=test_dataset, batch_size=10, num_workers=2, shuffle=True)"
   ]
  },
  {
   "cell_type": "code",
   "execution_count": 6,
   "metadata": {},
   "outputs": [],
   "source": [
    "alex = models.AlexNet().features.cuda()"
   ]
  },
  {
   "cell_type": "code",
   "execution_count": null,
   "metadata": {},
   "outputs": [],
   "source": []
  },
  {
   "cell_type": "code",
   "execution_count": null,
   "metadata": {},
   "outputs": [],
   "source": []
  },
  {
   "cell_type": "code",
   "execution_count": 58,
   "metadata": {},
   "outputs": [
    {
     "data": {
      "text/plain": [
       "torch.Size([10, 720, 1280, 3])"
      ]
     },
     "execution_count": 58,
     "metadata": {},
     "output_type": "execute_result"
    }
   ],
   "source": [
    "X.size()"
   ]
  },
  {
   "cell_type": "code",
   "execution_count": 61,
   "metadata": {},
   "outputs": [],
   "source": [
    "X = X.permute(0, 3, 1, 2)"
   ]
  },
  {
   "cell_type": "code",
   "execution_count": 63,
   "metadata": {},
   "outputs": [],
   "source": [
    "X = Variable(X.float()).cuda()\n",
    "\n",
    "# X = Variable(X, requires_grad=True).cuda()"
   ]
  },
  {
   "cell_type": "code",
   "execution_count": 65,
   "metadata": {},
   "outputs": [
    {
     "data": {
      "text/plain": [
       "torch.Size([10, 209664])"
      ]
     },
     "execution_count": 65,
     "metadata": {},
     "output_type": "execute_result"
    }
   ],
   "source": [
    "alex(X).data.view(X.size(0), -1).size()         "
   ]
  },
  {
   "cell_type": "code",
   "execution_count": null,
   "metadata": {},
   "outputs": [],
   "source": []
  },
  {
   "cell_type": "code",
   "execution_count": null,
   "metadata": {},
   "outputs": [],
   "source": []
  },
  {
   "cell_type": "code",
   "execution_count": 10,
   "metadata": {},
   "outputs": [],
   "source": [
    "c = torch.load('../alex-checkpoint-82.pth.tar')"
   ]
  },
  {
   "cell_type": "code",
   "execution_count": 15,
   "metadata": {},
   "outputs": [],
   "source": [
    "model = nn.Sequential(nn.Linear(209664, 5), nn.LogSoftmax()).cuda()\n",
    "loss_fn = nn.NLLLoss()"
   ]
  },
  {
   "cell_type": "code",
   "execution_count": 14,
   "metadata": {},
   "outputs": [],
   "source": [
    "model.load_state_dict(c['state_dict'])"
   ]
  },
  {
   "cell_type": "code",
   "execution_count": 16,
   "metadata": {},
   "outputs": [],
   "source": [
    "optimizer = torch.optim.Adam(params=model.parameters(), lr=0.001)"
   ]
  },
  {
   "cell_type": "code",
   "execution_count": 17,
   "metadata": {},
   "outputs": [],
   "source": [
    "def emulate(N, model, optimizer, loss_fn):\n",
    "    n_epoch = N\n",
    "\n",
    "    losses = np.zeros(n_epoch)\n",
    "    test_losses = np.zeros(n_epoch)\n",
    "\n",
    "    for i in tqdm(range(n_epoch)):\n",
    "        for batch in train_dataloader:\n",
    "            X = batch['image']\n",
    "            y = batch['mark']\n",
    "            \n",
    "            X = X.permute(0, 3, 1, 2)\n",
    "            X = Variable(X.float()).cuda()\n",
    "            X = alex(X).data.view(X.size(0), -1)\n",
    "            \n",
    "            X = Variable(X, requires_grad=True).cuda()\n",
    "            y = Variable(y.float(), requires_grad=False).cuda()\n",
    "    \n",
    "            y_pred = model(X)\n",
    "            loss = loss_fn(y_pred, y.long())\n",
    "            losses[i] = max(loss.data[0], losses[i])\n",
    "            optimizer.zero_grad()\n",
    "            loss.backward()\n",
    "            optimizer.step()\n",
    "            \n",
    "#         for batch in test_dataloader:\n",
    "#             X = batch['image']\n",
    "#             y = batch['mark']\n",
    "            \n",
    "#             X = X.permute(0, 3, 1, 2)\n",
    "#             X = Variable(X.float()).cuda()\n",
    "#             X = alex(X).data.view(X.size(0), -1)\n",
    "            \n",
    "#             X = Variable(X, requires_grad=True).cuda()\n",
    "#             y = Variable(y.float(), requires_grad=False).cuda()\n",
    "    \n",
    "#             y_pred = model(X)\n",
    "#             loss = loss_fn(y_pred, y.long())\n",
    "#             test_losses[i] = max(loss.data[0], test_losses[i])            \n",
    "        if i != 0:\n",
    "            if losses[i] < 20 and losses[i] > 0:\n",
    "                print(losses[-1])\n",
    "                break\n",
    "    return losses, test_losses"
   ]
  },
  {
   "cell_type": "code",
   "execution_count": 18,
   "metadata": {},
   "outputs": [
    {
     "name": "stderr",
     "output_type": "stream",
     "text": [
      " 15%|█▌        | 15/100 [03:16<18:33, 13.10s/it]"
     ]
    },
    {
     "name": "stdout",
     "output_type": "stream",
     "text": [
      "0.0\n"
     ]
    }
   ],
   "source": [
    "losses, test_losses = emulate(100, model, optimizer, loss_fn)"
   ]
  },
  {
   "cell_type": "code",
   "execution_count": 19,
   "metadata": {},
   "outputs": [
    {
     "data": {
      "text/plain": [
       "array([ 301.20953369,   81.49829865,   84.2124939 ,  126.70231628,\n",
       "         34.97266006,   45.14321518,   29.21243286,   38.94561386,\n",
       "         71.27126312,   30.93949509,   47.05743408,   49.33096313,\n",
       "         38.77667236,   48.94181442,   39.97071075,   18.45581055,\n",
       "          0.        ,    0.        ,    0.        ,    0.        ,\n",
       "          0.        ,    0.        ,    0.        ,    0.        ,\n",
       "          0.        ,    0.        ,    0.        ,    0.        ,\n",
       "          0.        ,    0.        ,    0.        ,    0.        ,\n",
       "          0.        ,    0.        ,    0.        ,    0.        ,\n",
       "          0.        ,    0.        ,    0.        ,    0.        ,\n",
       "          0.        ,    0.        ,    0.        ,    0.        ,\n",
       "          0.        ,    0.        ,    0.        ,    0.        ,\n",
       "          0.        ,    0.        ,    0.        ,    0.        ,\n",
       "          0.        ,    0.        ,    0.        ,    0.        ,\n",
       "          0.        ,    0.        ,    0.        ,    0.        ,\n",
       "          0.        ,    0.        ,    0.        ,    0.        ,\n",
       "          0.        ,    0.        ,    0.        ,    0.        ,\n",
       "          0.        ,    0.        ,    0.        ,    0.        ,\n",
       "          0.        ,    0.        ,    0.        ,    0.        ,\n",
       "          0.        ,    0.        ,    0.        ,    0.        ,\n",
       "          0.        ,    0.        ,    0.        ,    0.        ,\n",
       "          0.        ,    0.        ,    0.        ,    0.        ,\n",
       "          0.        ,    0.        ,    0.        ,    0.        ,\n",
       "          0.        ,    0.        ,    0.        ,    0.        ,\n",
       "          0.        ,    0.        ,    0.        ,    0.        ])"
      ]
     },
     "execution_count": 19,
     "metadata": {},
     "output_type": "execute_result"
    }
   ],
   "source": [
    "losses"
   ]
  },
  {
   "cell_type": "code",
   "execution_count": 22,
   "metadata": {},
   "outputs": [],
   "source": [
    "torch.save({\n",
    "    'epoch': 16,\n",
    "    'state_dict': model.state_dict(),\n",
    "    'optimizer': optimizer.state_dict()\n",
    "}, '../alex-checkpoint-80.pth.tar')"
   ]
  },
  {
   "cell_type": "code",
   "execution_count": null,
   "metadata": {},
   "outputs": [],
   "source": []
  },
  {
   "cell_type": "code",
   "execution_count": 128,
   "metadata": {},
   "outputs": [
    {
     "data": {
      "text/plain": [
       "array([ 619.74987793,  784.2668457 ])"
      ]
     },
     "execution_count": 128,
     "metadata": {},
     "output_type": "execute_result"
    }
   ],
   "source": [
    "test_losses"
   ]
  },
  {
   "cell_type": "code",
   "execution_count": 16,
   "metadata": {},
   "outputs": [
    {
     "data": {
      "text/plain": [
       "[1, 2, 3]"
      ]
     },
     "execution_count": 16,
     "metadata": {},
     "output_type": "execute_result"
    }
   ],
   "source": [
    "list(np.array([1, 2, 3]))"
   ]
  },
  {
   "cell_type": "code",
   "execution_count": 27,
   "metadata": {},
   "outputs": [
    {
     "name": "stderr",
     "output_type": "stream",
     "text": [
      "\n",
      "\n"
     ]
    },
    {
     "name": "stdout",
     "output_type": "stream",
     "text": [
      "0.7\n",
      "1.0\n",
      "0.8\n",
      "0.9\n",
      "0.8\n",
      "0.9\n",
      "0.8\n",
      "0.9\n",
      "0.9\n",
      "0.8\n",
      "0.8\n",
      "0.9\n",
      "0.5\n",
      "0.7\n",
      "0.5\n",
      "0.9\n",
      "0.8\n",
      "0.8\n",
      "1.0\n"
     ]
    }
   ],
   "source": [
    "test_loss = 0\n",
    "pred = []\n",
    "correct = []\n",
    "\n",
    "for batch in test_dataloader:\n",
    "    X = batch['image']\n",
    "    y = batch['mark']\n",
    "    \n",
    "    correct += list(y.numpy())\n",
    "    \n",
    "    X = X.permute(0, 3, 1, 2)\n",
    "    X = Variable(X.float()).cuda()\n",
    "    X = alex(X).data.view(X.size(0), -1)\n",
    "            \n",
    "    X = Variable(X, requires_grad=True).cuda()\n",
    "    y = Variable(y.float(), requires_grad=False).cuda()\n",
    "    \n",
    "    y_pred = model(X)\n",
    "    loss = loss_fn(y_pred, y.long())\n",
    "    print(accuracy_score(y.cpu().data.numpy(), y_pred.cpu().data.numpy().argmax(axis=1)))\n",
    "    test_loss = max(loss.data[0], test_loss)\n",
    "\n",
    "    \n",
    "    pred += list(y_pred.cpu().data.numpy().argmax(axis=1))"
   ]
  },
  {
   "cell_type": "code",
   "execution_count": 28,
   "metadata": {},
   "outputs": [
    {
     "data": {
      "text/plain": [
       "0.80110497237569056"
      ]
     },
     "execution_count": 28,
     "metadata": {},
     "output_type": "execute_result"
    }
   ],
   "source": [
    "accuracy_score(correct, pred)"
   ]
  },
  {
   "cell_type": "code",
   "execution_count": 29,
   "metadata": {},
   "outputs": [
    {
     "data": {
      "text/plain": [
       "20.81411361694336"
      ]
     },
     "execution_count": 29,
     "metadata": {},
     "output_type": "execute_result"
    }
   ],
   "source": [
    "test_loss"
   ]
  },
  {
   "cell_type": "code",
   "execution_count": null,
   "metadata": {},
   "outputs": [],
   "source": []
  },
  {
   "cell_type": "code",
   "execution_count": 48,
   "metadata": {},
   "outputs": [
    {
     "data": {
      "text/html": [
       "<div>\n",
       "<style scoped>\n",
       "    .dataframe tbody tr th:only-of-type {\n",
       "        vertical-align: middle;\n",
       "    }\n",
       "\n",
       "    .dataframe tbody tr th {\n",
       "        vertical-align: top;\n",
       "    }\n",
       "\n",
       "    .dataframe thead th {\n",
       "        text-align: right;\n",
       "    }\n",
       "</style>\n",
       "<table border=\"1\" class=\"dataframe\">\n",
       "  <thead>\n",
       "    <tr style=\"text-align: right;\">\n",
       "      <th></th>\n",
       "      <th>0</th>\n",
       "    </tr>\n",
       "  </thead>\n",
       "  <tbody>\n",
       "    <tr>\n",
       "      <th>0</th>\n",
       "      <td>2.jpg</td>\n",
       "    </tr>\n",
       "    <tr>\n",
       "      <th>1</th>\n",
       "      <td>3.jpg</td>\n",
       "    </tr>\n",
       "    <tr>\n",
       "      <th>2</th>\n",
       "      <td>5.jpg</td>\n",
       "    </tr>\n",
       "    <tr>\n",
       "      <th>3</th>\n",
       "      <td>1.jpg</td>\n",
       "    </tr>\n",
       "    <tr>\n",
       "      <th>4</th>\n",
       "      <td>4.jpg</td>\n",
       "    </tr>\n",
       "  </tbody>\n",
       "</table>\n",
       "</div>"
      ],
      "text/plain": [
       "       0\n",
       "0  2.jpg\n",
       "1  3.jpg\n",
       "2  5.jpg\n",
       "3  1.jpg\n",
       "4  4.jpg"
      ]
     },
     "execution_count": 48,
     "metadata": {},
     "output_type": "execute_result"
    }
   ],
   "source": [
    "tst"
   ]
  },
  {
   "cell_type": "code",
   "execution_count": 47,
   "metadata": {},
   "outputs": [],
   "source": [
    "tst = pd.DataFrame(data = os.listdir('../../test/test'))"
   ]
  },
  {
   "cell_type": "code",
   "execution_count": 49,
   "metadata": {},
   "outputs": [],
   "source": [
    "tst['1'] = [3 for i in range(len(tst))]"
   ]
  },
  {
   "cell_type": "code",
   "execution_count": 50,
   "metadata": {},
   "outputs": [],
   "source": [
    "tst_dataset = GesturesDataset(pd_file=tst, root_dir='../../test/test/')\n",
    "tst_dataloader = DataLoader(tst_dataset, batch_size=1, num_workers=2, shuffle=False)"
   ]
  },
  {
   "cell_type": "code",
   "execution_count": 51,
   "metadata": {},
   "outputs": [
    {
     "name": "stdout",
     "output_type": "stream",
     "text": [
      "Variable containing:\n",
      "    0.0000 -1578.2942 -1112.2887  -263.2498  -791.4814\n",
      "[torch.cuda.FloatTensor of size 1x5 (GPU 0)]\n",
      "\n",
      "Variable containing:\n",
      "    0.0000 -1621.5896 -1385.0001  -970.6466 -1708.4966\n",
      "[torch.cuda.FloatTensor of size 1x5 (GPU 0)]\n",
      "\n",
      "Variable containing:\n",
      "-1642.6094     0.0000 -1743.7119  -312.9773  -958.2891\n",
      "[torch.cuda.FloatTensor of size 1x5 (GPU 0)]\n",
      "\n",
      "Variable containing:\n",
      "-1698.8087 -1627.3885 -2301.3354     0.0000 -3129.5037\n",
      "[torch.cuda.FloatTensor of size 1x5 (GPU 0)]\n",
      "\n",
      "Variable containing:\n",
      "-614.0206 -244.5977 -961.9930 -298.9932    0.0000\n",
      "[torch.cuda.FloatTensor of size 1x5 (GPU 0)]\n",
      "\n"
     ]
    }
   ],
   "source": [
    "for batch in tst_dataloader:\n",
    "    X = batch['image']\n",
    "            \n",
    "    X = X.permute(0, 3, 1, 2)\n",
    "    X = Variable(X.float()).cuda()\n",
    "    X = alex(X).data.view(X.size(0), -1)\n",
    "            \n",
    "    X = Variable(X, requires_grad=True).cuda()\n",
    "    \n",
    "    y_pred = model(X)\n",
    "    \n",
    "    print(y_pred)\n",
    "    #plt.imshow(batch['image'][0].numpy())"
   ]
  },
  {
   "cell_type": "code",
   "execution_count": null,
   "metadata": {},
   "outputs": [],
   "source": []
  },
  {
   "cell_type": "code",
   "execution_count": 17,
   "metadata": {},
   "outputs": [],
   "source": [
    "pred = np.zeros(len(test_dataset))\n",
    "real = np.zeros(len(test_dataset))\n",
    "for i in range(len(test_dataset)):\n",
    "    X = torch.FloatTensor(test_dataset[i]['image'].astype(float).reshape(1, 720, 1280, 3))\n",
    "    X = X.permute(0, 3, 1, 2)\n",
    "    X = Variable(X.float()).cuda()\n",
    "    X = alex(X).data.view(X.size(0), -1)\n",
    "            \n",
    "    X = Variable(X, requires_grad=True).cuda()\n",
    "    \n",
    "    y_pred = model(X)\n",
    "    \n",
    "    real[i] = test_dataset[i]['mark']\n",
    "    pred[i] = y_pred.cpu().data.numpy().argmax()"
   ]
  },
  {
   "cell_type": "code",
   "execution_count": 18,
   "metadata": {},
   "outputs": [
    {
     "data": {
      "text/plain": [
       "0.18439716312056736"
      ]
     },
     "execution_count": 18,
     "metadata": {},
     "output_type": "execute_result"
    }
   ],
   "source": [
    "accuracy_score(real, pred)"
   ]
  },
  {
   "cell_type": "code",
   "execution_count": 101,
   "metadata": {},
   "outputs": [
    {
     "data": {
      "text/plain": [
       "2"
      ]
     },
     "execution_count": 101,
     "metadata": {},
     "output_type": "execute_result"
    }
   ],
   "source": [
    "test_dataset[0]['mark']"
   ]
  },
  {
   "cell_type": "code",
   "execution_count": 23,
   "metadata": {},
   "outputs": [],
   "source": [
    "c = torch.load('../alex-checkpoint-80.pth.tar')"
   ]
  },
  {
   "cell_type": "code",
   "execution_count": 24,
   "metadata": {},
   "outputs": [],
   "source": [
    "model = nn.Sequential(nn.Linear(209664, 5), nn.LogSoftmax()).cuda()\n",
    "loss_fn = nn.NLLLoss()\n",
    "model.load_state_dict(c['state_dict'])"
   ]
  },
  {
   "cell_type": "code",
   "execution_count": null,
   "metadata": {},
   "outputs": [],
   "source": []
  }
 ],
 "metadata": {
  "kernelspec": {
   "display_name": "Python 3",
   "language": "python",
   "name": "python3"
  },
  "language_info": {
   "codemirror_mode": {
    "name": "ipython",
    "version": 3
   },
   "file_extension": ".py",
   "mimetype": "text/x-python",
   "name": "python",
   "nbconvert_exporter": "python",
   "pygments_lexer": "ipython3",
   "version": "3.6.3"
  }
 },
 "nbformat": 4,
 "nbformat_minor": 2
}
