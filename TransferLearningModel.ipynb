{
 "cells": [
  {
   "cell_type": "code",
   "execution_count": 1,
   "metadata": {},
   "outputs": [
    {
     "name": "stderr",
     "output_type": "stream",
     "text": [
      "/home/sphere_7/anaconda3/envs/analytics/lib/python3.6/site-packages/sklearn/cross_validation.py:41: DeprecationWarning: This module was deprecated in version 0.18 in favor of the model_selection module into which all the refactored classes and functions are moved. Also note that the interface of the new CV iterators are different from that of this module. This module will be removed in 0.20.\n",
      "  \"This module will be removed in 0.20.\", DeprecationWarning)\n"
     ]
    }
   ],
   "source": [
    "import numpy as np\n",
    "from skimage import io, transform\n",
    "from sklearn.datasets import fetch_mldata\n",
    "from sklearn.cross_validation import train_test_split\n",
    "from sklearn.metrics import accuracy_score\n",
    "import matplotlib.pyplot as plt\n",
    "import torch\n",
    "from torch import nn\n",
    "from torch.autograd import Variable\n",
    "from torch.utils.data import DataLoader, Dataset\n",
    "from torchvision.datasets import MNIST\n",
    "from torchvision import transforms\n",
    "from torchvision import models\n",
    "\n",
    "from tqdm import tqdm\n",
    "\n",
    "import pandas as pd\n",
    "import os\n",
    "\n",
    "%matplotlib inline"
   ]
  },
  {
   "cell_type": "code",
   "execution_count": 2,
   "metadata": {},
   "outputs": [],
   "source": [
    "from sklearn.model_selection import StratifiedShuffleSplit"
   ]
  },
  {
   "cell_type": "code",
   "execution_count": 3,
   "metadata": {},
   "outputs": [
    {
     "data": {
      "text/html": [
       "<div>\n",
       "<style scoped>\n",
       "    .dataframe tbody tr th:only-of-type {\n",
       "        vertical-align: middle;\n",
       "    }\n",
       "\n",
       "    .dataframe tbody tr th {\n",
       "        vertical-align: top;\n",
       "    }\n",
       "\n",
       "    .dataframe thead th {\n",
       "        text-align: right;\n",
       "    }\n",
       "</style>\n",
       "<table border=\"1\" class=\"dataframe\">\n",
       "  <thead>\n",
       "    <tr style=\"text-align: right;\">\n",
       "      <th></th>\n",
       "      <th>0</th>\n",
       "      <th>1</th>\n",
       "    </tr>\n",
       "  </thead>\n",
       "  <tbody>\n",
       "    <tr>\n",
       "      <th>0</th>\n",
       "      <td>Gesture_4/WIN_20171129_12_29_10_Pro (2).jpg</td>\n",
       "      <td>4</td>\n",
       "    </tr>\n",
       "    <tr>\n",
       "      <th>1</th>\n",
       "      <td>Gesture_4/WIN_20171214_18_12_33_Pro (2).jpg</td>\n",
       "      <td>4</td>\n",
       "    </tr>\n",
       "    <tr>\n",
       "      <th>2</th>\n",
       "      <td>Gesture_4/2017-11-26-145636_9.jpg</td>\n",
       "      <td>4</td>\n",
       "    </tr>\n",
       "    <tr>\n",
       "      <th>3</th>\n",
       "      <td>Gesture_4/WIN_20171203_17_26_42_Pro.jpg</td>\n",
       "      <td>4</td>\n",
       "    </tr>\n",
       "    <tr>\n",
       "      <th>4</th>\n",
       "      <td>Gesture_4/2017-11-26-150319_4.jpg</td>\n",
       "      <td>4</td>\n",
       "    </tr>\n",
       "  </tbody>\n",
       "</table>\n",
       "</div>"
      ],
      "text/plain": [
       "                                             0  1\n",
       "0  Gesture_4/WIN_20171129_12_29_10_Pro (2).jpg  4\n",
       "1  Gesture_4/WIN_20171214_18_12_33_Pro (2).jpg  4\n",
       "2            Gesture_4/2017-11-26-145636_9.jpg  4\n",
       "3      Gesture_4/WIN_20171203_17_26_42_Pro.jpg  4\n",
       "4            Gesture_4/2017-11-26-150319_4.jpg  4"
      ]
     },
     "execution_count": 3,
     "metadata": {},
     "output_type": "execute_result"
    }
   ],
   "source": [
    "data = pd.read_csv('marks.csv', header=None)\n",
    "data.head()"
   ]
  },
  {
   "cell_type": "code",
   "execution_count": 4,
   "metadata": {},
   "outputs": [],
   "source": [
    "class GesturesDataset(Dataset):\n",
    "    def __init__(self, pd_file, root_dir, transform=None):\n",
    "        self.marks = pd_file\n",
    "        self.root_dir = root_dir\n",
    "        self.transform = transform\n",
    "\n",
    "    def __len__(self):\n",
    "        return len(self.marks)\n",
    "\n",
    "    def __getitem__(self, idx):\n",
    "        img_name = os.path.join(self.root_dir, self.marks.iloc[idx, 0])\n",
    "        image = io.imread(img_name) * 1.0 / 255.0\n",
    "\n",
    "#         if self.transform:\n",
    "#             image = self.transform(image)\n",
    "\n",
    "        sample = {'image': image, 'mark': self.marks.iloc[idx, 1] - 1}\n",
    "            \n",
    "        return sample"
   ]
  },
  {
   "cell_type": "code",
   "execution_count": 5,
   "metadata": {},
   "outputs": [
    {
     "data": {
      "text/plain": [
       "1"
      ]
     },
     "execution_count": 5,
     "metadata": {},
     "output_type": "execute_result"
    }
   ],
   "source": [
    "sss = StratifiedShuffleSplit(n_splits=1, test_size=0.2)\n",
    "sss.get_n_splits(data, data[1])"
   ]
  },
  {
   "cell_type": "code",
   "execution_count": 6,
   "metadata": {},
   "outputs": [],
   "source": [
    "for train_idxs, test_idxs in sss.split(data, data[1]):\n",
    "    break"
   ]
  },
  {
   "cell_type": "code",
   "execution_count": 7,
   "metadata": {},
   "outputs": [],
   "source": [
    "train_data, test_data = data.iloc[train_idxs, :], data.iloc[test_idxs, :]#train_test_split(data, test_size=0.1)"
   ]
  },
  {
   "cell_type": "code",
   "execution_count": 8,
   "metadata": {},
   "outputs": [],
   "source": [
    "train_dataset = GesturesDataset(pd_file=train_data, root_dir='./')\n",
    "train_dataloader = DataLoader(dataset=train_dataset, batch_size=10, num_workers=2, shuffle=True)\n",
    "\n",
    "test_dataset = GesturesDataset(pd_file=test_data, root_dir='./')\n",
    "test_dataloader = DataLoader(dataset=test_dataset, batch_size=10, num_workers=2, shuffle=True)"
   ]
  },
  {
   "cell_type": "code",
   "execution_count": 9,
   "metadata": {},
   "outputs": [],
   "source": [
    "alex = models.alexnet(pretrained=True).features.cuda()"
   ]
  },
  {
   "cell_type": "code",
   "execution_count": null,
   "metadata": {},
   "outputs": [],
   "source": []
  },
  {
   "cell_type": "code",
   "execution_count": 10,
   "metadata": {},
   "outputs": [],
   "source": [
    "for batch in train_dataloader:\n",
    "    break"
   ]
  },
  {
   "cell_type": "code",
   "execution_count": 11,
   "metadata": {},
   "outputs": [],
   "source": [
    "X = Variable(batch['image'].permute(0, 3, 1, 2).float())"
   ]
  },
  {
   "cell_type": "code",
   "execution_count": 12,
   "metadata": {},
   "outputs": [
    {
     "data": {
      "text/plain": [
       "torch.Size([10, 256, 20, 20])"
      ]
     },
     "execution_count": 12,
     "metadata": {},
     "output_type": "execute_result"
    }
   ],
   "source": [
    "alex(X.cuda()).size()"
   ]
  },
  {
   "cell_type": "code",
   "execution_count": null,
   "metadata": {},
   "outputs": [],
   "source": []
  },
  {
   "cell_type": "code",
   "execution_count": 23,
   "metadata": {},
   "outputs": [],
   "source": [
    "#model = nn.Sequential(nn.Linear(209664, 1000), nn.ReLU(), nn.Linear(1000, 5), nn.LogSoftmax()).cuda()\n",
    "model = nn.Sequential(nn.Linear(102400, 5), nn.LogSoftmax()).cuda()\n",
    "loss_fn = nn.NLLLoss()"
   ]
  },
  {
   "cell_type": "code",
   "execution_count": 8,
   "metadata": {},
   "outputs": [],
   "source": [
    "# if we want to load model\n",
    "c = torch.load('./alex-checkpoint-72.pth.tar')\n",
    "model.load_state_dict(c['state_dict'])"
   ]
  },
  {
   "cell_type": "code",
   "execution_count": 25,
   "metadata": {},
   "outputs": [],
   "source": [
    "optimizer = torch.optim.Adam(params=model.parameters(), lr=0.0001)"
   ]
  },
  {
   "cell_type": "code",
   "execution_count": null,
   "metadata": {},
   "outputs": [],
   "source": []
  },
  {
   "cell_type": "code",
   "execution_count": 26,
   "metadata": {},
   "outputs": [],
   "source": [
    "normalize = transforms.Normalize(mean=[0.485, 0.456, 0.406],\n",
    "                                 std=[0.229, 0.224, 0.225])"
   ]
  },
  {
   "cell_type": "code",
   "execution_count": null,
   "metadata": {},
   "outputs": [],
   "source": []
  },
  {
   "cell_type": "code",
   "execution_count": 27,
   "metadata": {},
   "outputs": [],
   "source": [
    "def emulate(N, model, optimizer, loss_fn):\n",
    "    n_epoch = N\n",
    "\n",
    "    losses = np.zeros(n_epoch)\n",
    "    test_losses = np.zeros(n_epoch)\n",
    "\n",
    "    for i in range(n_epoch):\n",
    "        for batch in train_dataloader:\n",
    "            X = batch['image']\n",
    "            y = batch['mark']\n",
    "            \n",
    "            X = X.permute(0, 3, 1, 2)\n",
    "            X = normalize(X)\n",
    "            X = Variable(X.float()).cuda()\n",
    "            X = alex(X).data.view(X.size(0), -1)\n",
    "            \n",
    "            X = Variable(X, requires_grad=True).cuda()\n",
    "            y = Variable(y.float(), requires_grad=False).cuda()\n",
    "    \n",
    "            y_pred = model(X)\n",
    "            loss = loss_fn(y_pred, y.long())\n",
    "            losses[i] = max(loss.data[0], losses[i])\n",
    "            optimizer.zero_grad()\n",
    "            loss.backward()\n",
    "            optimizer.step()\n",
    "        print(losses[i])\n",
    "            \n",
    "#         for batch in test_dataloader:\n",
    "#             X = batch['image']\n",
    "#             y = batch['mark']\n",
    "            \n",
    "#             X = X.permute(0, 3, 1, 2)\n",
    "#             X = Variable(X.float()).cuda()\n",
    "#             X = alex(X).data.view(X.size(0), -1)\n",
    "            \n",
    "#             X = Variable(X, requires_grad=True).cuda()\n",
    "#             y = Variable(y.float(), requires_grad=False).cuda()\n",
    "    \n",
    "#             y_pred = model(X)\n",
    "#             loss = loss_fn(y_pred, y.long())\n",
    "#             test_losses[i] = max(loss.data[0], test_losses[i])            \n",
    "\n",
    "#         if i != 0:\n",
    "#             if losses[i] < 20 and losses[i] > 0:\n",
    "#                 print(losses[i])\n",
    "#                 break\n",
    "    return losses, test_losses"
   ]
  },
  {
   "cell_type": "code",
   "execution_count": 28,
   "metadata": {
    "scrolled": true
   },
   "outputs": [
    {
     "name": "stdout",
     "output_type": "stream",
     "text": [
      "2.62691354752\n",
      "0.98714607954\n",
      "0.983713924885\n",
      "0.507203817368\n",
      "0.393974483013\n",
      "0.465896517038\n",
      "0.34070199728\n",
      "0.492848962545\n",
      "0.11159569025\n",
      "0.10994784534\n",
      "0.0864415317774\n",
      "0.0758791863918\n",
      "0.114580787718\n",
      "0.491577535868\n",
      "0.0541619881988\n",
      "0.0405991524458\n",
      "0.0391044802964\n",
      "0.0307763330638\n",
      "0.0180729776621\n",
      "0.0289400406182\n",
      "0.0161418430507\n",
      "0.0214527305216\n",
      "0.0144738880917\n",
      "0.0149487284943\n",
      "0.0108005087823\n",
      "0.0125125525519\n",
      "0.0123002249748\n",
      "0.0141970645636\n",
      "0.0114177027717\n",
      "0.00878156442195\n",
      "0.00856838189065\n",
      "0.00567733636126\n",
      "0.00702386815101\n",
      "0.00523225963116\n",
      "0.00763060431927\n",
      "0.00512969214469\n",
      "0.00594659429044\n",
      "0.00481987604871\n",
      "0.00469883391634\n",
      "0.00403691548854\n",
      "0.00410195579752\n",
      "0.00385072221979\n",
      "0.00559620838612\n",
      "0.00330114364624\n",
      "0.00331882247701\n",
      "0.00236276397482\n",
      "0.00294780731201\n",
      "0.00282273301855\n",
      "0.0020385265816\n",
      "0.00323140178807\n"
     ]
    }
   ],
   "source": [
    "losses, test_losses = emulate(50, model, optimizer, loss_fn)"
   ]
  },
  {
   "cell_type": "code",
   "execution_count": 29,
   "metadata": {},
   "outputs": [
    {
     "data": {
      "text/plain": [
       "[<matplotlib.lines.Line2D at 0x7f1b0db1e518>]"
      ]
     },
     "execution_count": 29,
     "metadata": {},
     "output_type": "execute_result"
    },
    {
     "data": {
      "image/png": "[encoded data removed]",
      "text/plain": [
       "<matplotlib.figure.Figure at 0x7f1b0db28978>"
      ]
     },
     "metadata": {},
     "output_type": "display_data"
    }
   ],
   "source": [
    "plt.plot(losses)"
   ]
  },
  {
   "cell_type": "code",
   "execution_count": 33,
   "metadata": {},
   "outputs": [],
   "source": [
    "torch.save({\n",
    "    'epoch': 50,\n",
    "    'state_dict': model.state_dict(),\n",
    "    'optimizer': optimizer.state_dict()\n",
    "}, './alex-checkpoint-87.pth.tar')"
   ]
  },
  {
   "cell_type": "code",
   "execution_count": null,
   "metadata": {},
   "outputs": [],
   "source": []
  },
  {
   "cell_type": "code",
   "execution_count": 30,
   "metadata": {},
   "outputs": [
    {
     "name": "stdout",
     "output_type": "stream",
     "text": [
      "0.7\n",
      "0.9\n",
      "0.9\n",
      "0.9\n",
      "0.9\n",
      "1.0\n",
      "0.9\n",
      "0.8\n",
      "0.9\n",
      "0.9\n",
      "0.8\n",
      "0.8\n",
      "0.9\n",
      "0.9\n",
      "1.0\n",
      "0.9\n",
      "0.7\n",
      "1.0\n",
      "0.8\n",
      "1.0\n",
      "1.0\n",
      "1.0\n",
      "0.9\n",
      "0.9\n",
      "0.7\n",
      "0.8\n",
      "0.666666666667\n"
     ]
    }
   ],
   "source": [
    "test_loss = 0\n",
    "pred = []\n",
    "correct = []\n",
    "\n",
    "for batch in test_dataloader:\n",
    "    X = batch['image']\n",
    "    y = batch['mark']\n",
    "    \n",
    "    correct += list(y.numpy())\n",
    "    \n",
    "    X = X.permute(0, 3, 1, 2)\n",
    "    X = normalize(X)\n",
    "    X = Variable(X.float()).cuda()\n",
    "    X = alex(X).data.view(X.size(0), -1)\n",
    "\n",
    "    X = Variable(X, requires_grad=True).cuda()\n",
    "    y = Variable(y.float(), requires_grad=False).cuda()\n",
    "    \n",
    "    y_pred = model(X)\n",
    "    loss = loss_fn(y_pred, y.long())\n",
    "    print(accuracy_score(y.cpu().data.numpy(), y_pred.cpu().data.numpy().argmax(axis=1)))\n",
    "    test_loss = max(loss.data[0], test_loss)\n",
    "\n",
    "    \n",
    "    pred += list(y_pred.cpu().data.numpy().argmax(axis=1))"
   ]
  },
  {
   "cell_type": "code",
   "execution_count": 31,
   "metadata": {},
   "outputs": [
    {
     "data": {
      "text/plain": [
       "0.87593984962406013"
      ]
     },
     "execution_count": 31,
     "metadata": {},
     "output_type": "execute_result"
    }
   ],
   "source": [
    "accuracy_score(correct, pred)"
   ]
  },
  {
   "cell_type": "code",
   "execution_count": 32,
   "metadata": {},
   "outputs": [
    {
     "data": {
      "text/plain": [
       "1.2188005447387695"
      ]
     },
     "execution_count": 32,
     "metadata": {},
     "output_type": "execute_result"
    }
   ],
   "source": [
    "test_loss"
   ]
  },
  {
   "cell_type": "code",
   "execution_count": 20,
   "metadata": {},
   "outputs": [
    {
     "data": {
      "text/plain": [
       "901"
      ]
     },
     "execution_count": 20,
     "metadata": {},
     "output_type": "execute_result"
    }
   ],
   "source": []
  },
  {
   "cell_type": "code",
   "execution_count": 34,
   "metadata": {},
   "outputs": [
    {
     "data": {
      "text/plain": [
       "Sequential (\n",
       "  (0): Linear (102400 -> 5)\n",
       "  (1): LogSoftmax ()\n",
       ")"
      ]
     },
     "execution_count": 34,
     "metadata": {},
     "output_type": "execute_result"
    }
   ],
   "source": [
    "# save for cpu usage\n",
    "model.cpu()\n",
    "torch.save({\n",
    "    'epoch': 50,\n",
    "    'state_dict': model.state_dict(),\n",
    "}, './alex-checkpoint-87-cpu.pth.tar')\n",
    "model.cuda()"
   ]
  },
  {
   "cell_type": "code",
   "execution_count": null,
   "metadata": {},
   "outputs": [],
   "source": []
  }
 ],
 "metadata": {
  "kernelspec": {
   "display_name": "Python 3",
   "language": "python",
   "name": "python3"
  },
  "language_info": {
   "codemirror_mode": {
    "name": "ipython",
    "version": 3
   },
   "file_extension": ".py",
   "mimetype": "text/x-python",
   "name": "python",
   "nbconvert_exporter": "python",
   "pygments_lexer": "ipython3",
   "version": "3.6.3"
  }
 },
 "nbformat": 4,
 "nbformat_minor": 2
}
